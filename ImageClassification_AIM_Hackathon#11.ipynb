{
 "cells": [
  {
   "cell_type": "code",
   "execution_count": null,
   "metadata": {},
   "outputs": [],
   "source": [
    "# -*- coding: utf-8 -*-\n",
    "import dataiku\n",
    "import pandas as pd, numpy as np\n",
    "from dataiku import pandasutils as pdu\n",
    "\n",
    "# Read recipe inputs\n",
    "folder = dataiku.Folder(\"cblB5oEx\")\n",
    "\n",
    "# Initialize dataframe\n",
    "df = pd.DataFrame(columns=['path'])\n",
    "\n",
    "# Populate dataframe with paths and labels\n",
    "df['path'] = folder.list_paths_in_partition()\n",
    "\n",
    "# Randomize order of records\n",
    "df = df.sample(frac=1).reset_index(drop=True)\n",
    "\n",
    "# Write recipe outputs\n",
    "cats_dogs_labels = dataiku.Dataset(\"cats_dogs_labels\")\n",
    "cats_dogs_labels.write_with_schema(df)\n"
   ]
  }
 ],
 "metadata": {
  "kernelspec": {
   "display_name": "Python 3",
   "language": "python",
   "name": "python3"
  },
  "language_info": {
   "codemirror_mode": {
    "name": "ipython",
    "version": 3
   },
   "file_extension": ".py",
   "mimetype": "text/x-python",
   "name": "python",
   "nbconvert_exporter": "python",
   "pygments_lexer": "ipython3",
   "version": "3.7.4"
  }
 },
 "nbformat": 4,
 "nbformat_minor": 2
}
